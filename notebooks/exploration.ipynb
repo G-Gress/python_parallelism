{
 "cells": [
  {
   "cell_type": "markdown",
   "id": "f378d4c1",
   "metadata": {},
   "source": [
    "# Parallelism in Computer Vision"
   ]
  },
  {
   "cell_type": "markdown",
   "id": "953cf720",
   "metadata": {},
   "source": [
    "## Setup"
   ]
  },
  {
   "cell_type": "markdown",
   "id": "49a84231",
   "metadata": {
    "vscode": {
     "languageId": "plaintext"
    }
   },
   "source": [
    "### Imports"
   ]
  },
  {
   "cell_type": "code",
   "execution_count": 1,
   "id": "ab52d405",
   "metadata": {},
   "outputs": [
    {
     "name": "stderr",
     "output_type": "stream",
     "text": [
      "2025-09-02 08:22:34.765031: I external/local_xla/xla/tsl/cuda/cudart_stub.cc:31] Could not find cuda drivers on your machine, GPU will not be used.\n",
      "2025-09-02 08:22:35.702177: I tensorflow/core/platform/cpu_feature_guard.cc:210] This TensorFlow binary is optimized to use available CPU instructions in performance-critical operations.\n",
      "To enable the following instructions: AVX2 FMA, in other operations, rebuild TensorFlow with the appropriate compiler flags.\n",
      "2025-09-02 08:22:39.370469: I external/local_xla/xla/tsl/cuda/cudart_stub.cc:31] Could not find cuda drivers on your machine, GPU will not be used.\n"
     ]
    }
   ],
   "source": [
    "import os\n",
    "import time\n",
    "import matplotlib.pyplot as plt\n",
    "import numpy as np\n",
    "import tensorflow as tf\n",
    "from PIL import Image\n",
    "from pathlib import Path\n",
    "import zipfile\n",
    "import urllib.request\n",
    "from typing import List\n",
    "\n",
    "from concurrent.futures import ProcessPoolExecutor, as_completed"
   ]
  },
  {
   "cell_type": "markdown",
   "id": "0ab5a99b",
   "metadata": {},
   "source": [
    "### Google Colab"
   ]
  },
  {
   "cell_type": "code",
   "execution_count": 2,
   "id": "3387fef0",
   "metadata": {},
   "outputs": [
    {
     "name": "stdout",
     "output_type": "stream",
     "text": [
      "Running on a local machine\n",
      "\n",
      "Num GPUs Available:  0\n"
     ]
    },
    {
     "name": "stderr",
     "output_type": "stream",
     "text": [
      "2025-09-02 08:22:54.011091: E external/local_xla/xla/stream_executor/cuda/cuda_platform.cc:51] failed call to cuInit: INTERNAL: CUDA error: Failed call to cuInit: UNKNOWN ERROR (303)\n"
     ]
    }
   ],
   "source": [
    "# Check if running of Google Colab\n",
    "def is_running_on_colab():\n",
    "    try:\n",
    "        if 'google.colab' in str(get_ipython()):\n",
    "            return True\n",
    "        else:\n",
    "            return False\n",
    "    except NameError:\n",
    "        return False\n",
    "\n",
    "if is_running_on_colab():\n",
    "    print(\"Running on Google Colab\")\n",
    "\n",
    "    # Check for available GPUs and, if found, configure TensorFlow to use memory growth\n",
    "    physical_devices = tf.config.list_physical_devices('GPU')\n",
    "    try:\n",
    "        # Ensure at least one GPU is available\n",
    "        if physical_devices:\n",
    "            tf.config.experimental.set_memory_growth(physical_devices[0], True)\n",
    "            print(\"GPU memory growth enabled.\")\n",
    "        else:\n",
    "            print(\"No GPU devices found.\")\n",
    "    except:\n",
    "        print(f\"Error setting GPU memory growth: {e}\")\n",
    "        pass\n",
    "\n",
    "    # Get GPU infos\n",
    "    gpu_info = !nvidia-smi\n",
    "    gpu_info = '\\n'.join(gpu_info)\n",
    "    if gpu_info.find('failed') >= 0:\n",
    "        print('Not connected to a GPU')\n",
    "    else:\n",
    "        print(gpu_info)\n",
    "\n",
    "    # Connect to Google Drive\n",
    "    from google.colab import drive\n",
    "    drive.mount('/content/drive')\n",
    "\n",
    "    # Setup the Google root\n",
    "    root_path = \"./drive/MyDrive/Project/Python_parallelism\"\n",
    "\n",
    "    # Install jiwer for the calculate_average_wer function\n",
    "    ! pip install jiwer\n",
    "else:\n",
    "    print(\"Running on a local machine\")\n",
    "    # Setup the local root\n",
    "    root_path = \"..\"\n",
    "\n",
    "# Displays the number of avaible GPUs\n",
    "print(\"\\nNum GPUs Available: \", len(tf.config.list_physical_devices('GPU')))\n"
   ]
  },
  {
   "cell_type": "markdown",
   "id": "1793f3d7",
   "metadata": {},
   "source": [
    "### Global Variables and Data paths for Caltech101 dataset"
   ]
  },
  {
   "cell_type": "code",
   "execution_count": 3,
   "id": "5ec2263c",
   "metadata": {},
   "outputs": [
    {
     "name": "stdout",
     "output_type": "stream",
     "text": [
      "Data folder set to ../data\n"
     ]
    }
   ],
   "source": [
    "SAMPLE_SIZE = 1250\n",
    "\n",
    "DATA_ROOT = Path(root_path, \"data\")\n",
    "ARCHIVE_URL = \"https://www.kaggle.com/api/v1/datasets/download/imbikramsaha/caltech-101\"\n",
    "ARCHIVE_PATH = DATA_ROOT / \"caltech101.zip\"\n",
    "EXTRACT_DIR = DATA_ROOT / \"caltech-101\"\n",
    "\n",
    "print(f\"Data folder set to {DATA_ROOT}\")\n"
   ]
  },
  {
   "cell_type": "markdown",
   "id": "65bb315d",
   "metadata": {},
   "source": [
    "### Tools"
   ]
  },
  {
   "cell_type": "code",
   "execution_count": 4,
   "id": "6f7715e9",
   "metadata": {},
   "outputs": [],
   "source": [
    "def time_it(func):\n",
    "    \"\"\"Decorator to measure execution time of functions.\"\"\"\n",
    "    def wrapper(*args, **kwargs):\n",
    "        start = time.time()\n",
    "        result = func(*args, **kwargs)\n",
    "        end = time.time()\n",
    "        print(f\"{func.__name__} took {end - start:.4f}s\")\n",
    "        return result\n",
    "    return wrapper"
   ]
  },
  {
   "cell_type": "markdown",
   "id": "87fd2596",
   "metadata": {},
   "source": [
    "### Download Caltech101 dataset"
   ]
  },
  {
   "cell_type": "code",
   "execution_count": 5,
   "id": "2a0e2b42",
   "metadata": {},
   "outputs": [
    {
     "name": "stdout",
     "output_type": "stream",
     "text": [
      "Caltech101 dataset already exists.\n"
     ]
    }
   ],
   "source": [
    "def ensure_caltech101():\n",
    "    if EXTRACT_DIR.exists() and any(EXTRACT_DIR.iterdir()):\n",
    "        print(\"Caltech101 dataset already exists.\")\n",
    "        return\n",
    "    print(\"Downloading Caltech101 archive...\")\n",
    "    urllib.request.urlretrieve(ARCHIVE_URL, ARCHIVE_PATH)\n",
    "    print(\"Extracting Caltech101 archive...\")\n",
    "    with zipfile.ZipFile(ARCHIVE_PATH, \"r\") as zip_ref:\n",
    "        zip_ref.extractall(path=DATA_ROOT)\n",
    "    print(\"Caltech101 dataset extracted to\", EXTRACT_DIR)\n",
    "\n",
    "ensure_caltech101()\n"
   ]
  },
  {
   "cell_type": "markdown",
   "id": "771e3faf",
   "metadata": {},
   "source": [
    "### Sample Images"
   ]
  },
  {
   "cell_type": "code",
   "execution_count": 4,
   "id": "85575038",
   "metadata": {},
   "outputs": [
    {
     "data": {
      "text/plain": [
       "(9144,\n",
       " [PosixPath('../data/caltech-101/yin_yang/image_0042.jpg'),\n",
       "  PosixPath('../data/caltech-101/yin_yang/image_0002.jpg'),\n",
       "  PosixPath('../data/caltech-101/yin_yang/image_0053.jpg'),\n",
       "  PosixPath('../data/caltech-101/yin_yang/image_0009.jpg'),\n",
       "  PosixPath('../data/caltech-101/yin_yang/image_0019.jpg')])"
      ]
     },
     "execution_count": 4,
     "metadata": {},
     "output_type": "execute_result"
    }
   ],
   "source": [
    "def sample_images(root: Path, limit=None) -> List[Path]:\n",
    "    extensions = {\".jpg\", \".jpeg\", \".png\", \".bmp\"}\n",
    "    paths = [path for path in root.rglob(\"*\") if path.suffix.lower() in extensions]\n",
    "    return paths[:limit] if limit else paths\n",
    "\n",
    "paths = sample_images(EXTRACT_DIR, limit=None)\n",
    "len(paths), paths[:5]\n"
   ]
  },
  {
   "cell_type": "markdown",
   "id": "0977414f",
   "metadata": {},
   "source": [
    "## Preprocess Pipeline"
   ]
  },
  {
   "cell_type": "markdown",
   "id": "0ec50a14",
   "metadata": {},
   "source": [
    "### Resize, grayscale, Sobel edges."
   ]
  },
  {
   "cell_type": "code",
   "execution_count": 5,
   "id": "3128fd33",
   "metadata": {},
   "outputs": [],
   "source": [
    "def load_resize(path, size=(224,224)):\n",
    "    \"\"\"\n",
    "    Open an image, convert it to RGB to ensure we have 3 channels, and resize it.\n",
    "    Returns a NumPy array of shape (height, width, 3).\n",
    "    \"\"\"\n",
    "    with Image.open(path) as img:\n",
    "        img = img.convert(\"RGB\").resize(size, Image.BILINEAR)\n",
    "        return np.array(img, dtype=np.uint8)\n",
    "\n",
    "def to_gray(img_rgb):\n",
    "    \"\"\"\n",
    "    Convert an RGB image to grayscale using perceptual weights.\n",
    "    Returns a NumPy array of shape (height, width).\n",
    "    \"\"\"\n",
    "    # Use ellipsis (...) to select all pixels\n",
    "    r, g, b = img_rgb[..., 0], img_rgb[..., 1], img_rgb[..., 2]\n",
    "    # Apply ITU-R 601 to calculate luminance\n",
    "    # Cast float32 to avoid overflow later\n",
    "    return (0.299 * r + 0.587 * g + 0.114 * b).astype(np.float32)\n",
    "\n",
    "def sobel_edges(img_gray):\n",
    "    \"\"\"\n",
    "    Apply the Sobel operator to a grayscale image of shape (height, width) to detect edges.\n",
    "    Returns a NumPy array of the same shape as the input image.\n",
    "    \"\"\"\n",
    "    # Create two 3x3 Sobel kernels\n",
    "    sobel_x = np.array([[-1, 0, 1],\n",
    "                        [-2, 0, 2],\n",
    "                        [-1, 0, 1]], dtype=np.float32)\n",
    "    sobel_y = np.array([[ 1, 2, 1],\n",
    "                        [ 0, 0, 0],\n",
    "                        [-1,-2,-1]], dtype=np.float32)\n",
    "\n",
    "    grad = np.pad(img_gray, ((1, 1), (1, 1)), mode='edge')\n",
    "    grad_x = (\n",
    "        grad[:-2, :-2] * sobel_x[0, 0] + grad[:-2, 1:-1] * sobel_x[0, 1] + grad[:-2, 2:] * sobel_x[0, 2] +\n",
    "        grad[1:-1, :-2] * sobel_x[1, 0] + grad[1:-1, 1:-1] * sobel_x[1, 1] + grad[1:-1, 2:] * sobel_x[1, 2] +\n",
    "        grad[2:, :-2] * sobel_x[2, 0] + grad[2:, 1:-1] * sobel_x[2, 1] + grad[2:, 2:] * sobel_x[2, 2]\n",
    "    )\n",
    "    grad_y = (\n",
    "        grad[:-2, :-2] * sobel_y[0, 0] + grad[:-2, 1:-1] * sobel_y[0, 1] + grad[:-2, 2:] * sobel_y[0, 2] +\n",
    "        grad[1:-1, :-2] * sobel_y[1, 0] + grad[1:-1, 1:-1] * sobel_y[1, 1] + grad[1:-1, 2:] * sobel_y[1, 2] +\n",
    "        grad[2:, :-2] * sobel_y[2, 0] + grad[2:, 1:-1] * sobel_y[2, 1] + grad[2:, 2:] * sobel_y[2, 2]\n",
    "    )\n",
    "    return np.sqrt(grad_x**2 + grad_y**2).astype(np.float32)"
   ]
  },
  {
   "cell_type": "markdown",
   "id": "98c4f90a",
   "metadata": {},
   "source": [
    "## Serial Preprocessing"
   ]
  },
  {
   "cell_type": "markdown",
   "id": "bfc1d0cf",
   "metadata": {},
   "source": [
    "### Full dictionary"
   ]
  },
  {
   "cell_type": "code",
   "execution_count": 6,
   "id": "563a4ca8",
   "metadata": {},
   "outputs": [],
   "source": [
    "def preprocess_one(path, size=(224, 224), bins=32):\n",
    "    \"\"\"\n",
    "    Preprocess pipeline for one image.\n",
    "    Returns a dictionary containing components for reuse.\n",
    "    \"\"\"\n",
    "    img_resized = load_resize(path, size)\n",
    "    img_gray = to_gray(img_resized)\n",
    "    img_edges = sobel_edges(img_gray)\n",
    "\n",
    "    hists = []\n",
    "    for channel in range(3):\n",
    "        hist_channel, _ = np.histogram(img_resized[..., channel], bins=bins, range=(0, 255))\n",
    "        hists.append(hist_channel.astype(np.float32))\n",
    "\n",
    "    color_hist = np.concatenate(hists, axis=0)\n",
    "\n",
    "    return {\n",
    "        \"path\": str(path),\n",
    "        \"resized\": img_resized,\n",
    "        \"gray\": img_gray,\n",
    "        \"edges\": img_edges,\n",
    "        \"color_hist\": color_hist,\n",
    "        \"size\": size,\n",
    "        \"bins\": bins\n",
    "    }\n",
    "\n",
    "def preprocess_all_serial(image_paths, size=(224, 224), bins=32, limit=None):\n",
    "    \"\"\"\n",
    "    Preprocess pipeline for a list of images.\n",
    "    Returns a list of dictionaries, each containing components for reuse.\n",
    "    \"\"\"\n",
    "    if limit is not None:\n",
    "        image_paths = image_paths[:limit]\n",
    "    return [preprocess_one(path, size=size, bins=bins) for path in image_paths]\n"
   ]
  },
  {
   "cell_type": "markdown",
   "id": "6361d37c",
   "metadata": {},
   "source": [
    "### Minimal dictionary"
   ]
  },
  {
   "cell_type": "code",
   "execution_count": 7,
   "id": "15c0529d",
   "metadata": {},
   "outputs": [],
   "source": [
    "def preprocess_one_min(path, size=(224,224), bins=32):\n",
    "    '''\n",
    "    Preprocess pipeline for one image.\n",
    "    Returning a minimal dictionary of features.\n",
    "    '''\n",
    "    img = load_resize(path, size)\n",
    "    gray = to_gray(img)\n",
    "    edges = sobel_edges(gray)\n",
    "    # Simple feature: edge mean + color hist (density)\n",
    "    hists = []\n",
    "    for c in range(3):\n",
    "        h, _ = np.histogram(img[..., c], bins=bins, range=(0,255), density=True)\n",
    "        hists.append(h.astype(np.float32))\n",
    "    color_hist = np.concatenate(hists)\n",
    "    return {\n",
    "        \"path\": str(path),\n",
    "        \"edge_mean\": float(edges.mean()),\n",
    "        \"edge_max\": float(edges.max()),\n",
    "        \"color_hist\": color_hist\n",
    "    }\n"
   ]
  },
  {
   "cell_type": "markdown",
   "id": "f12f2e77",
   "metadata": {},
   "source": [
    "### Performance test on different image size"
   ]
  },
  {
   "cell_type": "code",
   "execution_count": 14,
   "id": "77e65219",
   "metadata": {},
   "outputs": [],
   "source": [
    "import time, statistics as stats\n",
    "\n",
    "def measure_components(paths, limit=60, size=(224,224)):\n",
    "    t_load = []\n",
    "    t_compute = []\n",
    "\n",
    "    if not limit:\n",
    "        limit = len(paths)\n",
    "\n",
    "    for p in paths[:limit]:\n",
    "        t0 = time.perf_counter()\n",
    "        img = load_resize(p, size=size)\n",
    "        t1 = time.perf_counter()\n",
    "        gray = to_gray(img)\n",
    "        edges = sobel_edges(gray)\n",
    "        t2 = time.perf_counter()\n",
    "        t_load.append(t1 - t0)\n",
    "        t_compute.append(t2 - t1)\n",
    "    return {\n",
    "        \"n\": limit,\n",
    "        \"load_mean\": stats.mean(t_load),\n",
    "        \"compute_mean\": stats.mean(t_compute),\n",
    "        \"load_total\": sum(t_load),\n",
    "        \"compute_total\": sum(t_compute)\n",
    "    }\n"
   ]
  },
  {
   "cell_type": "markdown",
   "id": "388b26be",
   "metadata": {},
   "source": [
    "#### 224x224"
   ]
  },
  {
   "cell_type": "code",
   "execution_count": 15,
   "id": "75ed35c2",
   "metadata": {},
   "outputs": [
    {
     "data": {
      "text/plain": [
       "{'n': 5000,\n",
       " 'load_mean': 0.0035048333763821574,\n",
       " 'compute_mean': 0.001687629114407173,\n",
       " 'load_total': 17.524166881910787,\n",
       " 'compute_total': 8.438145572035864}"
      ]
     },
     "execution_count": 15,
     "metadata": {},
     "output_type": "execute_result"
    }
   ],
   "source": [
    "component_stats_224 = measure_components(paths, limit=SAMPLE_SIZE, size=(224,224))\n",
    "component_stats_224"
   ]
  },
  {
   "cell_type": "markdown",
   "id": "f82f7ba7",
   "metadata": {},
   "source": [
    "#### 112x112"
   ]
  },
  {
   "cell_type": "code",
   "execution_count": 17,
   "id": "55be4fe0",
   "metadata": {},
   "outputs": [
    {
     "data": {
      "text/plain": [
       "{'n': 5000,\n",
       " 'load_mean': 0.0023690059279513663,\n",
       " 'compute_mean': 0.0007657839100458659,\n",
       " 'load_total': 11.84502963975683,\n",
       " 'compute_total': 3.8289195502293296}"
      ]
     },
     "execution_count": 17,
     "metadata": {},
     "output_type": "execute_result"
    }
   ],
   "source": [
    "component_stats_112 = measure_components(paths, limit=SAMPLE_SIZE, size=(112,112))\n",
    "component_stats_112"
   ]
  },
  {
   "cell_type": "markdown",
   "id": "c96c0d8c",
   "metadata": {},
   "source": [
    "#### 56x56"
   ]
  },
  {
   "cell_type": "code",
   "execution_count": 19,
   "id": "1783a6bf",
   "metadata": {},
   "outputs": [
    {
     "data": {
      "text/plain": [
       "{'n': 5000,\n",
       " 'load_mean': 0.0021029290436330485,\n",
       " 'compute_mean': 0.0005401675909852201,\n",
       " 'load_total': 10.514645218165242,\n",
       " 'compute_total': 2.700837954926101}"
      ]
     },
     "execution_count": 19,
     "metadata": {},
     "output_type": "execute_result"
    }
   ],
   "source": [
    "component_stats_56 = measure_components(paths, limit=SAMPLE_SIZE, size=(56,56))\n",
    "component_stats_56"
   ]
  },
  {
   "cell_type": "markdown",
   "id": "d0bd354d",
   "metadata": {},
   "source": [
    "## Parallel Preprocessing"
   ]
  },
  {
   "cell_type": "markdown",
   "id": "00390dfb",
   "metadata": {},
   "source": [
    "### Full dictionary"
   ]
  },
  {
   "cell_type": "code",
   "execution_count": 8,
   "id": "d71b169b",
   "metadata": {},
   "outputs": [
    {
     "name": "stdout",
     "output_type": "stream",
     "text": [
      "ProcessPool full objects: 1250 images in 9.33s\n"
     ]
    }
   ],
   "source": [
    "from concurrent.futures import ProcessPoolExecutor, as_completed\n",
    "import os, math\n",
    "\n",
    "def preprocess_parallel(paths, size=(224,224), bins=32, max_workers=None, limit=None):\n",
    "    '''\n",
    "    Preprocess pipeline using ProcessPoolExecutor for parallel processing.\n",
    "    '''\n",
    "    if limit: paths = paths[:limit]\n",
    "    t0 = time.perf_counter()\n",
    "    out = []\n",
    "    with ProcessPoolExecutor(max_workers=max_workers) as ex:\n",
    "        futures = [ex.submit(preprocess_one, p, size, bins) for p in paths]\n",
    "        for f in as_completed(futures):\n",
    "            out.append(f.result())\n",
    "    elapsed = time.perf_counter() - t0\n",
    "    return out, elapsed\n",
    "\n",
    "par_samples, par_time = preprocess_parallel(paths, limit=SAMPLE_SIZE)\n",
    "print(f\"ProcessPool full objects: {len(par_samples)} images in {par_time:.2f}s\")"
   ]
  },
  {
   "cell_type": "markdown",
   "id": "cc198586",
   "metadata": {},
   "source": [
    "### Minimal dictionary"
   ]
  },
  {
   "cell_type": "code",
   "execution_count": 9,
   "id": "f0cbf11d",
   "metadata": {},
   "outputs": [
    {
     "name": "stdout",
     "output_type": "stream",
     "text": [
      "ProcessPool minimal dict: 1250 images in 6.82s\n"
     ]
    }
   ],
   "source": [
    "def preprocess_parallel_min(paths, size=(224,224), bins=32, max_workers=None, limit=None):\n",
    "    if limit: paths = paths[:limit]\n",
    "    t0 = time.perf_counter()\n",
    "    out = []\n",
    "    with ProcessPoolExecutor(max_workers=max_workers) as ex:\n",
    "        futures = [ex.submit(preprocess_one_min, p, size, bins) for p in paths]\n",
    "        for f in as_completed(futures):\n",
    "            out.append(f.result())\n",
    "    elapsed = time.perf_counter() - t0\n",
    "    return out, elapsed\n",
    "\n",
    "par_min_samples, par_min_time = preprocess_parallel_min(paths, limit=SAMPLE_SIZE)\n",
    "print(f\"ProcessPool minimal dict: {len(par_min_samples)} images in {par_min_time:.2f}s\")"
   ]
  },
  {
   "cell_type": "markdown",
   "id": "baefa72d",
   "metadata": {},
   "source": [
    "### Preprocessing using threads"
   ]
  },
  {
   "cell_type": "code",
   "execution_count": 10,
   "id": "af707a67",
   "metadata": {},
   "outputs": [
    {
     "name": "stdout",
     "output_type": "stream",
     "text": [
      "ThreadPool: 1250 images in 15.67s\n"
     ]
    }
   ],
   "source": [
    "from concurrent.futures import ThreadPoolExecutor\n",
    "\n",
    "def preprocess_threads(paths, size=(224,224), bins=32, limit=None):\n",
    "    '''\n",
    "    Preprocess pipeline using ThreadPoolExecutor for parallel processing.\n",
    "    '''\n",
    "    if limit: paths = paths[:limit]\n",
    "    t0 = time.perf_counter()\n",
    "    with ThreadPoolExecutor() as ex:\n",
    "        results = list(ex.map(lambda p: preprocess_one(p, size, bins), paths))\n",
    "    return results, time.perf_counter() - t0\n",
    "\n",
    "thr_samples, thr_time = preprocess_threads(paths, limit=SAMPLE_SIZE)\n",
    "print(f\"ThreadPool: {len(thr_samples)} images in {thr_time:.2f}s\")"
   ]
  },
  {
   "cell_type": "markdown",
   "id": "8f26dd2d",
   "metadata": {},
   "source": [
    "## Evaluating Process Speedup"
   ]
  },
  {
   "cell_type": "code",
   "execution_count": 11,
   "id": "78bd1b27",
   "metadata": {},
   "outputs": [
    {
     "name": "stdout",
     "output_type": "stream",
     "text": [
      "Serial (1250 images): 10.96s\n",
      "Speedups vs serial:\n",
      "  Processes (full objects): 1.17x\n",
      "  Processes (minimal dict): 1.61x\n",
      "  Threads: 0.70x\n"
     ]
    }
   ],
   "source": [
    "t0 = time.perf_counter()\n",
    "serial_subset = preprocess_all_serial(paths, limit=SAMPLE_SIZE)\n",
    "serial_time = time.perf_counter() - t0\n",
    "print(f\"Serial ({SAMPLE_SIZE} images): {serial_time:.2f}s\")\n",
    "\n",
    "print(f\"Speedups vs serial:\")\n",
    "print(f\"  Processes (full objects): {serial_time / par_time:.2f}x\")\n",
    "print(f\"  Processes (minimal dict): {serial_time / par_min_time:.2f}x\")\n",
    "print(f\"  Threads: {serial_time / thr_time:.2f}x\")"
   ]
  },
  {
   "cell_type": "markdown",
   "id": "6a6113ed",
   "metadata": {},
   "source": [
    "## Batch Preprocessing"
   ]
  },
  {
   "cell_type": "code",
   "execution_count": 12,
   "id": "c58185b5",
   "metadata": {},
   "outputs": [
    {
     "data": {
      "text/plain": [
       "{'n_images': 1250,\n",
       " 'total_time': 10.015896146999694,\n",
       " 'submit_overhead': 0.08358591099977275,\n",
       " 'time_until_first_result': 2.1671027269999286,\n",
       " 'batch size': 8,\n",
       " 'max_workers': None}"
      ]
     },
     "execution_count": 12,
     "metadata": {},
     "output_type": "execute_result"
    }
   ],
   "source": [
    "def worker(batch, size, bins):\n",
    "    out = []\n",
    "    for p in batch:\n",
    "        out.append(preprocess_one_min(p, size=size, bins=bins))\n",
    "    return out\n",
    "\n",
    "def preprocess_parallel_batches(paths, size=(224,224), bins=32, batch_size=16, max_workers=None, limit=None):\n",
    "    if limit: paths = paths[:limit]\n",
    "    batches = [paths[i:i+batch_size] for i in range(0, len(paths), batch_size)]\n",
    "\n",
    "    t_start = time.perf_counter()\n",
    "    first_future_submit = None\n",
    "    first_result_time = None\n",
    "\n",
    "    results = []\n",
    "    with ProcessPoolExecutor(max_workers=max_workers) as ex:\n",
    "        futures = []\n",
    "        for b in batches:\n",
    "            if first_future_submit is None:\n",
    "                first_future_submit = time.perf_counter()\n",
    "            futures.append(ex.submit(worker, b, size, bins))\n",
    "        for i, f in enumerate(as_completed(futures)):\n",
    "            r = f.result()\n",
    "            if first_result_time is None:\n",
    "                first_result_time = time.perf_counter()\n",
    "            results.extend(r)\n",
    "    t_end = time.perf_counter()\n",
    "\n",
    "    return {\n",
    "        \"n_images\": len(results),\n",
    "        \"total_time\": t_end - t_start,\n",
    "        \"submit_overhead\": (first_future_submit - t_start) if first_future_submit else None,\n",
    "        \"time_until_first_result\": (first_result_time - t_start) if first_result_time else None,\n",
    "        \"batch size\": batch_size,\n",
    "        \"max_workers\": max_workers\n",
    "    }\n",
    "\n",
    "stats_batch = preprocess_parallel_batches(paths, limit=SAMPLE_SIZE, batch_size=8)\n",
    "stats_batch"
   ]
  },
  {
   "cell_type": "markdown",
   "id": "36c99111",
   "metadata": {},
   "source": [
    "### Explore the effect of batchsize on the preprocessing with ProcessPoolExecutor"
   ]
  },
  {
   "cell_type": "code",
   "execution_count": 24,
   "id": "660e981c",
   "metadata": {},
   "outputs": [
    {
     "name": "stdout",
     "output_type": "stream",
     "text": [
      "batch= 1 total=9.545s first_result=0.740s\n"
     ]
    },
    {
     "ename": "KeyboardInterrupt",
     "evalue": "",
     "output_type": "error",
     "traceback": [
      "\u001b[31m---------------------------------------------------------------------------\u001b[39m",
      "\u001b[31mKeyboardInterrupt\u001b[39m                         Traceback (most recent call last)",
      "\u001b[36mCell\u001b[39m\u001b[36m \u001b[39m\u001b[32mIn[24]\u001b[39m\u001b[32m, line 4\u001b[39m\n\u001b[32m      2\u001b[39m sweep = []\n\u001b[32m      3\u001b[39m \u001b[38;5;28;01mfor\u001b[39;00m b \u001b[38;5;129;01min\u001b[39;00m batch_sizes:\n\u001b[32m----> \u001b[39m\u001b[32m4\u001b[39m     s = \u001b[43mpreprocess_parallel_batches\u001b[49m\u001b[43m(\u001b[49m\u001b[43mpaths\u001b[49m\u001b[43m,\u001b[49m\u001b[43m \u001b[49m\u001b[43mlimit\u001b[49m\u001b[43m=\u001b[49m\u001b[43mSAMPLE_SIZE\u001b[49m\u001b[43m,\u001b[49m\u001b[43m \u001b[49m\u001b[43mbatch_size\u001b[49m\u001b[43m=\u001b[49m\u001b[43mb\u001b[49m\u001b[43m)\u001b[49m\n\u001b[32m      5\u001b[39m     sweep.append(s)\n\u001b[32m      6\u001b[39m     \u001b[38;5;28mprint\u001b[39m(\u001b[33mf\u001b[39m\u001b[33m\"\u001b[39m\u001b[33mbatch=\u001b[39m\u001b[38;5;132;01m{\u001b[39;00mb\u001b[38;5;132;01m:\u001b[39;00m\u001b[33m2d\u001b[39m\u001b[38;5;132;01m}\u001b[39;00m\u001b[33m total=\u001b[39m\u001b[38;5;132;01m{\u001b[39;00ms[\u001b[33m'\u001b[39m\u001b[33mtotal_time\u001b[39m\u001b[33m'\u001b[39m]\u001b[38;5;132;01m:\u001b[39;00m\u001b[33m.3f\u001b[39m\u001b[38;5;132;01m}\u001b[39;00m\u001b[33ms first_result=\u001b[39m\u001b[38;5;132;01m{\u001b[39;00ms[\u001b[33m'\u001b[39m\u001b[33mtime_until_first_result\u001b[39m\u001b[33m'\u001b[39m]\u001b[38;5;132;01m:\u001b[39;00m\u001b[33m.3f\u001b[39m\u001b[38;5;132;01m}\u001b[39;00m\u001b[33ms\u001b[39m\u001b[33m\"\u001b[39m)\n",
      "\u001b[36mCell\u001b[39m\u001b[36m \u001b[39m\u001b[32mIn[18]\u001b[39m\u001b[32m, line 22\u001b[39m, in \u001b[36mpreprocess_parallel_batches\u001b[39m\u001b[34m(paths, size, bins, batch_size, max_workers, limit)\u001b[39m\n\u001b[32m     20\u001b[39m         first_future_submit = time.perf_counter()\n\u001b[32m     21\u001b[39m     futures.append(ex.submit(worker, b, size, bins))\n\u001b[32m---> \u001b[39m\u001b[32m22\u001b[39m \u001b[43m\u001b[49m\u001b[38;5;28;43;01mfor\u001b[39;49;00m\u001b[43m \u001b[49m\u001b[43mi\u001b[49m\u001b[43m,\u001b[49m\u001b[43m \u001b[49m\u001b[43mf\u001b[49m\u001b[43m \u001b[49m\u001b[38;5;129;43;01min\u001b[39;49;00m\u001b[43m \u001b[49m\u001b[38;5;28;43menumerate\u001b[39;49m\u001b[43m(\u001b[49m\u001b[43mas_completed\u001b[49m\u001b[43m(\u001b[49m\u001b[43mfutures\u001b[49m\u001b[43m)\u001b[49m\u001b[43m)\u001b[49m\u001b[43m:\u001b[49m\n\u001b[32m     23\u001b[39m \u001b[43m    \u001b[49m\u001b[43mr\u001b[49m\u001b[43m \u001b[49m\u001b[43m=\u001b[49m\u001b[43m \u001b[49m\u001b[43mf\u001b[49m\u001b[43m.\u001b[49m\u001b[43mresult\u001b[49m\u001b[43m(\u001b[49m\u001b[43m)\u001b[49m\n\u001b[32m     24\u001b[39m \u001b[43m    \u001b[49m\u001b[38;5;28;43;01mif\u001b[39;49;00m\u001b[43m \u001b[49m\u001b[43mfirst_result_time\u001b[49m\u001b[43m \u001b[49m\u001b[38;5;129;43;01mis\u001b[39;49;00m\u001b[43m \u001b[49m\u001b[38;5;28;43;01mNone\u001b[39;49;00m\u001b[43m:\u001b[49m\n",
      "\u001b[36mFile \u001b[39m\u001b[32m~/.pyenv/versions/3.12.9/lib/python3.12/concurrent/futures/_base.py:243\u001b[39m, in \u001b[36mas_completed\u001b[39m\u001b[34m(fs, timeout)\u001b[39m\n\u001b[32m    238\u001b[39m     \u001b[38;5;28;01mif\u001b[39;00m wait_timeout < \u001b[32m0\u001b[39m:\n\u001b[32m    239\u001b[39m         \u001b[38;5;28;01mraise\u001b[39;00m \u001b[38;5;167;01mTimeoutError\u001b[39;00m(\n\u001b[32m    240\u001b[39m                 \u001b[33m'\u001b[39m\u001b[38;5;132;01m%d\u001b[39;00m\u001b[33m (of \u001b[39m\u001b[38;5;132;01m%d\u001b[39;00m\u001b[33m) futures unfinished\u001b[39m\u001b[33m'\u001b[39m % (\n\u001b[32m    241\u001b[39m                 \u001b[38;5;28mlen\u001b[39m(pending), total_futures))\n\u001b[32m--> \u001b[39m\u001b[32m243\u001b[39m \u001b[43mwaiter\u001b[49m\u001b[43m.\u001b[49m\u001b[43mevent\u001b[49m\u001b[43m.\u001b[49m\u001b[43mwait\u001b[49m\u001b[43m(\u001b[49m\u001b[43mwait_timeout\u001b[49m\u001b[43m)\u001b[49m\n\u001b[32m    245\u001b[39m \u001b[38;5;28;01mwith\u001b[39;00m waiter.lock:\n\u001b[32m    246\u001b[39m     finished = waiter.finished_futures\n",
      "\u001b[36mFile \u001b[39m\u001b[32m~/.pyenv/versions/3.12.9/lib/python3.12/threading.py:655\u001b[39m, in \u001b[36mEvent.wait\u001b[39m\u001b[34m(self, timeout)\u001b[39m\n\u001b[32m    653\u001b[39m signaled = \u001b[38;5;28mself\u001b[39m._flag\n\u001b[32m    654\u001b[39m \u001b[38;5;28;01mif\u001b[39;00m \u001b[38;5;129;01mnot\u001b[39;00m signaled:\n\u001b[32m--> \u001b[39m\u001b[32m655\u001b[39m     signaled = \u001b[38;5;28;43mself\u001b[39;49m\u001b[43m.\u001b[49m\u001b[43m_cond\u001b[49m\u001b[43m.\u001b[49m\u001b[43mwait\u001b[49m\u001b[43m(\u001b[49m\u001b[43mtimeout\u001b[49m\u001b[43m)\u001b[49m\n\u001b[32m    656\u001b[39m \u001b[38;5;28;01mreturn\u001b[39;00m signaled\n",
      "\u001b[36mFile \u001b[39m\u001b[32m~/.pyenv/versions/3.12.9/lib/python3.12/threading.py:355\u001b[39m, in \u001b[36mCondition.wait\u001b[39m\u001b[34m(self, timeout)\u001b[39m\n\u001b[32m    353\u001b[39m \u001b[38;5;28;01mtry\u001b[39;00m:    \u001b[38;5;66;03m# restore state no matter what (e.g., KeyboardInterrupt)\u001b[39;00m\n\u001b[32m    354\u001b[39m     \u001b[38;5;28;01mif\u001b[39;00m timeout \u001b[38;5;129;01mis\u001b[39;00m \u001b[38;5;28;01mNone\u001b[39;00m:\n\u001b[32m--> \u001b[39m\u001b[32m355\u001b[39m         \u001b[43mwaiter\u001b[49m\u001b[43m.\u001b[49m\u001b[43macquire\u001b[49m\u001b[43m(\u001b[49m\u001b[43m)\u001b[49m\n\u001b[32m    356\u001b[39m         gotit = \u001b[38;5;28;01mTrue\u001b[39;00m\n\u001b[32m    357\u001b[39m     \u001b[38;5;28;01melse\u001b[39;00m:\n",
      "\u001b[31mKeyboardInterrupt\u001b[39m: "
     ]
    }
   ],
   "source": [
    "batch_sizes = [1, 4, 8, 16, 24, 32, 48, 64]\n",
    "sweep = []\n",
    "for b in batch_sizes:\n",
    "    s = preprocess_parallel_batches(paths, limit=SAMPLE_SIZE, batch_size=b)\n",
    "    sweep.append(s)\n",
    "    print(f\"batch={b:2d} total={s['total_time']:.3f}s first_result={s['time_until_first_result']:.3f}s\")\n",
    "\n",
    "# Find best\n",
    "best = min(sweep, key=lambda d: d['total_time'])\n",
    "print(\"\\nBest batch config:\", best)"
   ]
  },
  {
   "cell_type": "code",
   "execution_count": null,
   "id": "5ad02e4f",
   "metadata": {},
   "outputs": [
    {
     "data": {
      "text/plain": [
       "[<matplotlib.lines.Line2D at 0x7fc478254980>]"
      ]
     },
     "execution_count": 21,
     "metadata": {},
     "output_type": "execute_result"
    },
    {
     "data": {
      "image/png": "[encoded data removed]",
      "text/plain": [
       "<Figure size 640x480 with 1 Axes>"
      ]
     },
     "metadata": {},
     "output_type": "display_data"
    }
   ],
   "source": [
    "total_times = [d['total_time'] for d in sweep]\n",
    "\n",
    "plt.plot(batch_sizes, total_times, marker='o')"
   ]
  },
  {
   "cell_type": "code",
   "execution_count": null,
   "id": "72d7092a",
   "metadata": {},
   "outputs": [],
   "source": []
  }
 ],
 "metadata": {
  "kernelspec": {
   "display_name": "python-parallelism",
   "language": "python",
   "name": "python3"
  },
  "language_info": {
   "codemirror_mode": {
    "name": "ipython",
    "version": 3
   },
   "file_extension": ".py",
   "mimetype": "text/x-python",
   "name": "python",
   "nbconvert_exporter": "python",
   "pygments_lexer": "ipython3",
   "version": "3.12.9"
  }
 },
 "nbformat": 4,
 "nbformat_minor": 5
}
